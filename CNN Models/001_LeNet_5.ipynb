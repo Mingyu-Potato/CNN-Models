{
 "cells": [
  {
   "cell_type": "code",
   "execution_count": 1,
   "id": "188977e5",
   "metadata": {},
   "outputs": [],
   "source": [
    "import torch\n",
    "import torch.nn as nn\n",
    "import torch.nn.functional as F\n",
    "import torch.optim as optim\n",
    "from torch.utils.data import Dataset, DataLoader\n",
    "import torchvision\n",
    "import torchvision.transforms as transforms\n",
    "import matplotlib.pyplot as plt"
   ]
  },
  {
   "cell_type": "markdown",
   "id": "37640f03",
   "metadata": {},
   "source": [
    "## [Parameters]"
   ]
  },
  {
   "cell_type": "code",
   "execution_count": 2,
   "id": "1201e772",
   "metadata": {},
   "outputs": [],
   "source": [
    "lr = 1e-3\n",
    "batch_size = 64\n",
    "epochs = 20"
   ]
  },
  {
   "cell_type": "code",
   "execution_count": 3,
   "id": "48f2edbe",
   "metadata": {},
   "outputs": [
    {
     "data": {
      "text/plain": [
       "'cuda'"
      ]
     },
     "execution_count": 3,
     "metadata": {},
     "output_type": "execute_result"
    }
   ],
   "source": [
    "device = 'cuda' if torch.cuda.is_available() else 'cpu'\n",
    "device"
   ]
  },
  {
   "cell_type": "markdown",
   "id": "55e5ace1",
   "metadata": {},
   "source": [
    "## [Datasets]"
   ]
  },
  {
   "cell_type": "code",
   "execution_count": 5,
   "id": "4f07be03",
   "metadata": {},
   "outputs": [],
   "source": [
    "# Dataset은 MNIST Dataset으로 32x32x1 이미지입니다.\n",
    "\n",
    "transform = transforms.Compose([\n",
    "    transforms.Resize((32, 32)),\n",
    "    transforms.ToTensor()\n",
    "])\n",
    "\n",
    "trainset = torchvision.datasets.MNIST(root='./datasets',\n",
    "                                      transform=transform, train=True, download=True) # 60000장\n",
    "testset = torchvision.datasets.MNIST(root='./datasets',\n",
    "                                     transform=transform, train=False, download=True) # 10000장"
   ]
  },
  {
   "cell_type": "code",
   "execution_count": 6,
   "id": "8df682f3",
   "metadata": {},
   "outputs": [],
   "source": [
    "train_loader = DataLoader(trainset, batch_size=batch_size, shuffle=True)\n",
    "test_loader = DataLoader(testset, batch_size=batch_size, shuffle=False)"
   ]
  },
  {
   "cell_type": "markdown",
   "id": "9db837be",
   "metadata": {},
   "source": [
    "## [Models]"
   ]
  },
  {
   "cell_type": "code",
   "execution_count": 7,
   "id": "8348b95d",
   "metadata": {},
   "outputs": [
    {
     "data": {
      "text/plain": [
       "LeNet(\n",
       "  (C1): Conv2d(1, 6, kernel_size=(5, 5), stride=(1, 1))\n",
       "  (S2): AvgPool2d(kernel_size=2, stride=2, padding=0)\n",
       "  (C3): Conv2d(6, 16, kernel_size=(5, 5), stride=(1, 1))\n",
       "  (S4): AvgPool2d(kernel_size=2, stride=2, padding=0)\n",
       "  (C5): Conv2d(16, 120, kernel_size=(5, 5), stride=(1, 1))\n",
       "  (F6): Linear(in_features=120, out_features=84, bias=True)\n",
       "  (Out): Linear(in_features=84, out_features=10, bias=True)\n",
       ")"
      ]
     },
     "execution_count": 7,
     "metadata": {},
     "output_type": "execute_result"
    }
   ],
   "source": [
    "class LeNet(nn.Module):\n",
    "    def __init__(self):\n",
    "        super(LeNet, self).__init__()\n",
    "        self.C1 = nn.Conv2d(1, 6, kernel_size=5)\n",
    "        self.S2 = nn.AvgPool2d(2)\n",
    "        self.C3 = nn.Conv2d(6, 16, kernel_size=5)\n",
    "        self.S4 = nn.AvgPool2d(2)\n",
    "        self.C5 = nn.Conv2d(16, 120, kernel_size=5)\n",
    "        self.F6 = nn.Linear(120, 84)\n",
    "        self.Out = nn.Linear(84, 10)\n",
    "            \n",
    "    def forward(self, x):\n",
    "        x = self.C1(x)\n",
    "        x = F.sigmoid(self.S2(x))\n",
    "        x = self.C3(x)\n",
    "        x = self.S4(x)\n",
    "        x = self.C5(x)\n",
    "        x = self.F6(torch.squeeze(x))\n",
    "        x = self.Out(x)\n",
    "        \n",
    "        return x\n",
    "    \n",
    "    \n",
    "model = LeNet().to(device)\n",
    "model"
   ]
  },
  {
   "cell_type": "markdown",
   "id": "687553b2",
   "metadata": {},
   "source": [
    "## [Train]"
   ]
  },
  {
   "cell_type": "code",
   "execution_count": 8,
   "id": "5141f860",
   "metadata": {},
   "outputs": [],
   "source": [
    "criterion = nn.CrossEntropyLoss()\n",
    "optimizer = optim.Adam(model.parameters(), lr=lr)"
   ]
  },
  {
   "cell_type": "code",
   "execution_count": 9,
   "id": "6bcb97ce",
   "metadata": {},
   "outputs": [
    {
     "name": "stdout",
     "output_type": "stream",
     "text": [
      "Epoch [0/20] Loss: 0.5629\n",
      "Epoch [1/20] Loss: 0.3453\n",
      "Epoch [2/20] Loss: 0.5558\n",
      "Epoch [3/20] Loss: 0.2041\n",
      "Epoch [4/20] Loss: 0.2162\n",
      "Epoch [5/20] Loss: 0.0765\n",
      "Epoch [6/20] Loss: 0.0385\n",
      "Epoch [7/20] Loss: 0.0300\n",
      "Epoch [8/20] Loss: 0.0125\n",
      "Epoch [9/20] Loss: 0.0172\n",
      "Epoch [10/20] Loss: 0.0239\n",
      "Epoch [11/20] Loss: 0.0170\n",
      "Epoch [12/20] Loss: 0.0055\n",
      "Epoch [13/20] Loss: 0.0158\n",
      "Epoch [14/20] Loss: 0.0030\n",
      "Epoch [15/20] Loss: 0.0046\n",
      "Epoch [16/20] Loss: 0.0201\n",
      "Epoch [17/20] Loss: 0.0130\n",
      "Epoch [18/20] Loss: 0.1180\n",
      "Epoch [19/20] Loss: 0.0043\n"
     ]
    }
   ],
   "source": [
    "for epoch in range(epochs):    \n",
    "    for images, labels in train_loader:       \n",
    "        images, labels = images.to(device), labels.to(device)\n",
    "        \n",
    "        outputs = model(images)              \n",
    "        loss = criterion(outputs, labels)\n",
    "        \n",
    "        optimizer.zero_grad() # gradient 값을 0으로 변경 \n",
    "        loss.backward() # backpropagation, loss function의 gradient값을 .grad에 저장\n",
    "        optimizer.step() # 계산된 gradient로 매개변수 업데이트\n",
    "    \n",
    "    print(f\"Epoch [{epoch}/{epochs}] Loss: {loss.item():.4f}\")"
   ]
  },
  {
   "cell_type": "markdown",
   "id": "6310807e",
   "metadata": {},
   "source": [
    "## [Result]"
   ]
  },
  {
   "cell_type": "code",
   "execution_count": 10,
   "id": "62fdde23",
   "metadata": {},
   "outputs": [
    {
     "name": "stdout",
     "output_type": "stream",
     "text": [
      "모델 예측값 : 5, 실제 값 : 5\n",
      "모델 예측값 : 0, 실제 값 : 0\n",
      "모델 예측값 : 4, 실제 값 : 4\n",
      "모델 예측값 : 1, 실제 값 : 1\n",
      "모델 예측값 : 9, 실제 값 : 9\n",
      "모델 예측값 : 2, 실제 값 : 2\n",
      "모델 예측값 : 1, 실제 값 : 1\n",
      "모델 예측값 : 3, 실제 값 : 3\n",
      "모델 예측값 : 1, 실제 값 : 1\n",
      "모델 예측값 : 4, 실제 값 : 4\n"
     ]
    }
   ],
   "source": [
    "model.to('cpu')\n",
    "\n",
    "for i in range(10):\n",
    "    pred = torch.argmax(model(trainset[i][0])).item()\n",
    "    label = trainset.targets[i]\n",
    "    \n",
    "    print(f\"모델 예측값 : {pred}, 실제 값 : {label}\")"
   ]
  },
  {
   "cell_type": "code",
   "execution_count": null,
   "id": "6adf8d23",
   "metadata": {},
   "outputs": [],
   "source": []
  }
 ],
 "metadata": {
  "kernelspec": {
   "display_name": "cnn_model",
   "language": "python",
   "name": "cnn_model"
  },
  "language_info": {
   "codemirror_mode": {
    "name": "ipython",
    "version": 3
   },
   "file_extension": ".py",
   "mimetype": "text/x-python",
   "name": "python",
   "nbconvert_exporter": "python",
   "pygments_lexer": "ipython3",
   "version": "3.9.16"
  }
 },
 "nbformat": 4,
 "nbformat_minor": 5
}
